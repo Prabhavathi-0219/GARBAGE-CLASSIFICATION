{
 "cells": [
  {
   "cell_type": "code",
   "execution_count": null,
   "id": "449a9457-2887-48ce-af5e-b7b0f6740653",
   "metadata": {},
   "outputs": [],
   "source": [
    "import numpy as np \n",
    "import matplotlib.pyplot as plt  \n",
    "import seaborn as sns  \n",
    "import tensorflow as tf  \n",
    "from tensorflow import keras  \n",
    "from tensorflow.keras import Layer \n",
    "from tensorflow.keras.models import Sequential  \n",
    "from tensorflow.keras.layers import Rescaling , GlobalAveragePooling2D\n",
    "from tensorflow.keras import layers, optimizers, callbacks  \n",
    "from sklearn.utils.class_weight import compute_class_weight \n",
    "from tensorflow.keras.applications import EfficientNetV2B2  \n",
    "from sklearn.metrics import confusion_matrix, classification_report \n",
    "import gradio as gr\n",
    "dataset_dir= r\"C:\\Users\\Downloads\\garbage\"\n",
    "image_size = (124, 124)\n",
    "batch_size = 32\n",
    "seed = 42\n",
    "train_ds = tf.keras.utils.image_dataset_from_directory(\n",
    "    dataset_dir,\n",
    "    validation_split=0.2,\n",
    "    subset=\"training\",\n",
    "    seed=seed,\n",
    "    shuffle = True,\n",
    "     image_size=image_size,\n",
    "    batch_size=batch_size\n",
    ")\n",
    "val_class= val_ds.class_names\n",
    "val_batches = tf.data.experimental.cardinality(val_ds)  \n",
    "\n",
    "# Split the validation dataset into two equal parts:\n",
    "# First half becomes the test dataset\n",
    "test_ds = val_ds.take(val_batches // 2)  \n",
    "\n",
    "# Second half remains as the validation dataset\n",
    "val_dat = val_ds.skip(val_batches // 2)  \n",
    "\n",
    "# Optimize test dataset by caching and prefetching to improve performance\n",
    "test_ds_eval = test_ds.cache().prefetch(tf.data.AUTOTUNE)\n",
    "print(train_ds.class_names)\n",
    "print(val_class)\n",
    "print(len(train_ds.class_names))\n",
    "import matplotlib.pyplot as plt\n",
    "\n",
    "plt.figure(figsize=(10, 10))\n",
    "for images, labels in train_ds.take(1):\n",
    "  for i in range(12):\n",
    "    ax = plt.subplot(4, 3, i + 1)\n",
    "    plt.imshow(images[i].numpy().astype(\"uint8\"))\n",
    "    plt.title(train_ds.class_names[labels[i]])\n",
    "    plt.axis(\"off\")"
   ]
  }
 ],
 "metadata": {
  "kernelspec": {
   "display_name": "Python 3 (ipykernel)",
   "language": "python",
   "name": "python3"
  },
  "language_info": {
   "codemirror_mode": {
    "name": "ipython",
    "version": 3
   },
   "file_extension": ".py",
   "mimetype": "text/x-python",
   "name": "python",
   "nbconvert_exporter": "python",
   "pygments_lexer": "ipython3",
   "version": "3.12.7"
  }
 },
 "nbformat": 4,
 "nbformat_minor": 5
}
